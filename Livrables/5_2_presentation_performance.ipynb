{
  "nbformat": 4,
  "nbformat_minor": 0,
  "metadata": {
    "colab": {
      "name": "5_2_presentation_performance.ipynb",
      "provenance": [],
      "include_colab_link": true
    },
    "kernelspec": {
      "name": "python3",
      "display_name": "Python 3"
    },
    "language_info": {
      "name": "python"
    }
  },
  "cells": [
    {
      "cell_type": "markdown",
      "metadata": {
        "id": "view-in-github",
        "colab_type": "text"
      },
      "source": [
        "<a href=\"https://colab.research.google.com/github/EtienneDouillard/Projet_M1/blob/main/Livrables/5_2_presentation_performance.ipynb\" target=\"_parent\"><img src=\"https://colab.research.google.com/assets/colab-badge.svg\" alt=\"Open In Colab\"/></a>"
      ]
    },
    {
      "cell_type": "markdown",
      "metadata": {
        "id": "venXELbNnh-q"
      },
      "source": [
        "#Initialisation"
      ]
    },
    {
      "cell_type": "code",
      "metadata": {
        "colab": {
          "base_uri": "https://localhost:8080/"
        },
        "id": "cngjbkbTLIUn",
        "outputId": "18b57a67-27bf-4fe6-bfe9-860c6acb2eeb"
      },
      "source": [
        "#classe Reseau\n",
        "import matplotlib.pyplot as plt\n",
        "import tensorflow as tf\n",
        "from tensorflow import keras\n",
        "import keras\n",
        "import itertools\n",
        "import random\n",
        "\n",
        "#premiere partie\n",
        "import pandas as pd\n",
        "import numpy as np\n",
        "import math\n",
        "\n",
        "from google.colab import drive\n",
        "drive.mount('/content/drive')"
      ],
      "execution_count": null,
      "outputs": [
        {
          "output_type": "stream",
          "text": [
            "Mounted at /content/drive\n"
          ],
          "name": "stdout"
        }
      ]
    },
    {
      "cell_type": "markdown",
      "metadata": {
        "id": "6gcPnuGqnkVH"
      },
      "source": [
        "Téléchargement de toutes les données sur les indices"
      ]
    },
    {
      "cell_type": "code",
      "metadata": {
        "id": "9DaBzQb2LYJQ"
      },
      "source": [
        "dTest = pd.read_csv('/content/drive/MyDrive/Projet-M1-Deep-FDA/Codes/Python/1-Simulation_data/Data/test.csv')\n",
        "dBase = pd.read_csv('/content/drive/MyDrive/Projet-M1-Deep-FDA/Codes/Python/1-Simulation_data/Data/baseTest.csv')\n",
        "dataTest = pd.DataFrame(data=dTest); #création nouvelle dataframe\n",
        "dataBase = pd.DataFrame(data=dBase)\n",
        "\n",
        "\n",
        "x_test = dataTest['x_test']\n",
        "y_test = dataTest['y_test']\n",
        "lengthTest = int(len(x_test)/50)\n",
        "x_test = np.array(x_test).reshape(lengthTest,1,50)\n",
        "y_test = np.array(y_test).reshape(lengthTest,1,50)\n",
        "\n",
        "x_base = dataBase['x_base']\n",
        "x_part = dataBase['x_part']\n",
        "x_base = np.array(x_base).reshape(int(len(x_base)/50),50)\n",
        "x_part = np.array(x_part).reshape(int(len(x_part)/50),50)\n",
        "\n",
        "\n",
        "\n",
        "dTest = pd.read_csv('/content/drive/MyDrive/Projet-M1-Deep-FDA/Codes/Python/1-Simulation_data/Data/testFixe_indice0.csv')\n",
        "dBase = pd.read_csv('/content/drive/MyDrive/Projet-M1-Deep-FDA/Codes/Python/1-Simulation_data/Data/baseTestFixe_indice0.csv')\n",
        "dataTest = pd.DataFrame(data=dTest); #création nouvelle dataframe\n",
        "dataBase = pd.DataFrame(data=dBase)\n",
        "\n",
        "\n",
        "x_testFixe_0 = dataTest['x_test']\n",
        "y_testFixe_0 = dataTest['y_test']\n",
        "lengthTest = int(len(x_testFixe_0)/50)\n",
        "x_testFixe_0 = np.array(x_testFixe_0).reshape(lengthTest,1,50)\n",
        "y_testFixe_0 = np.array(y_testFixe_0).reshape(lengthTest,1,50)\n",
        "\n",
        "x_baseFixe_0 = dataBase['x_base']\n",
        "x_partFixe_0 = dataBase['x_part']\n",
        "x_baseFixe_0 = np.array(x_baseFixe_0).reshape(int(len(x_baseFixe_0)/50),50)\n",
        "x_partFixe_0 = np.array(x_partFixe_0).reshape(int(len(x_partFixe_0)/50),50)\n",
        "\n",
        "\n",
        "\n",
        "dTest = pd.read_csv('/content/drive/MyDrive/Projet-M1-Deep-FDA/Codes/Python/1-Simulation_data/Data/testFixe_indice10.csv')\n",
        "dBase = pd.read_csv('/content/drive/MyDrive/Projet-M1-Deep-FDA/Codes/Python/1-Simulation_data/Data/baseTestFixe_indice10.csv')\n",
        "dataTest = pd.DataFrame(data=dTest); #création nouvelle dataframe\n",
        "dataBase = pd.DataFrame(data=dBase)\n",
        "\n",
        "\n",
        "x_testFixe_10 = dataTest['x_test']\n",
        "y_testFixe_10 = dataTest['y_test']\n",
        "lengthTest = int(len(x_testFixe_10)/50)\n",
        "x_testFixe_10 = np.array(x_testFixe_10).reshape(lengthTest,1,50)\n",
        "y_testFixe_10 = np.array(y_testFixe_10).reshape(lengthTest,1,50)\n",
        "\n",
        "x_baseFixe_10 = dataBase['x_base']\n",
        "x_partFixe_10 = dataBase['x_part']\n",
        "x_baseFixe_10 = np.array(x_baseFixe_10).reshape(int(len(x_baseFixe_10)/50),50)\n",
        "x_partFixe_10 = np.array(x_partFixe_10).reshape(int(len(x_partFixe_10)/50),50)\n",
        "\n",
        "\n",
        "\n",
        "dTest = pd.read_csv('/content/drive/MyDrive/Projet-M1-Deep-FDA/Codes/Python/1-Simulation_data/Data/testFixe_indice18.csv')\n",
        "dBase = pd.read_csv('/content/drive/MyDrive/Projet-M1-Deep-FDA/Codes/Python/1-Simulation_data/Data/baseTestFixe_indice18.csv')\n",
        "dataTest = pd.DataFrame(data=dTest); #création nouvelle dataframe\n",
        "dataBase = pd.DataFrame(data=dBase)\n",
        "\n",
        "\n",
        "x_testFixe_18 = dataTest['x_test']\n",
        "y_testFixe_18 = dataTest['y_test']\n",
        "lengthTest = int(len(x_testFixe_18)/50)\n",
        "x_testFixe_18 = np.array(x_testFixe_18).reshape(lengthTest,1,50)\n",
        "y_testFixe_18 = np.array(y_testFixe_18).reshape(lengthTest,1,50)\n",
        "\n",
        "x_baseFixe_18 = dataBase['x_base']\n",
        "x_partFixe_18 = dataBase['x_part']\n",
        "x_baseFixe_18 = np.array(x_baseFixe_18).reshape(int(len(x_baseFixe_18)/50),50)\n",
        "x_partFixe_18 = np.array(x_partFixe_18).reshape(int(len(x_partFixe_18)/50),50)\n",
        "\n",
        "\n",
        "dTest = pd.read_csv('/content/drive/MyDrive/Projet-M1-Deep-FDA/Codes/Python/1-Simulation_data/Data/testFixe_indice27.csv')\n",
        "dBase = pd.read_csv('/content/drive/MyDrive/Projet-M1-Deep-FDA/Codes/Python/1-Simulation_data/Data/baseTestFixe_indice27.csv')\n",
        "dataTest = pd.DataFrame(data=dTest); #création nouvelle dataframe\n",
        "dataBase = pd.DataFrame(data=dBase)\n",
        "\n",
        "\n",
        "x_testFixe_27 = dataTest['x_test']\n",
        "y_testFixe_27 = dataTest['y_test']\n",
        "lengthTest = int(len(x_testFixe_27)/50)\n",
        "x_testFixe_27 = np.array(x_testFixe_27).reshape(lengthTest,1,50)\n",
        "y_testFixe_27 = np.array(y_testFixe_27).reshape(lengthTest,1,50)\n",
        "\n",
        "x_baseFixe_27 = dataBase['x_base']\n",
        "x_partFixe_27 = dataBase['x_part']\n",
        "x_baseFixe_27 = np.array(x_baseFixe_27).reshape(int(len(x_baseFixe_27)/50),50)\n",
        "x_partFixe_27 = np.array(x_partFixe_27).reshape(int(len(x_partFixe_27)/50),50)\n",
        "\n",
        "\n",
        "dTest = pd.read_csv('/content/drive/MyDrive/Projet-M1-Deep-FDA/Codes/Python/1-Simulation_data/Data/testFixe_indice36.csv')\n",
        "dBase = pd.read_csv('/content/drive/MyDrive/Projet-M1-Deep-FDA/Codes/Python/1-Simulation_data/Data/baseTestFixe_indice36.csv')\n",
        "dataTest = pd.DataFrame(data=dTest); #création nouvelle dataframe\n",
        "dataBase = pd.DataFrame(data=dBase)\n",
        "\n",
        "\n",
        "x_testFixe_36 = dataTest['x_test']\n",
        "y_testFixe_36 = dataTest['y_test']\n",
        "lengthTest = int(len(x_testFixe_36)/50)\n",
        "x_testFixe_36 = np.array(x_testFixe_36).reshape(lengthTest,1,50)\n",
        "y_testFixe_36 = np.array(y_testFixe_36).reshape(lengthTest,1,50)\n",
        "\n",
        "x_baseFixe_36 = dataBase['x_base']\n",
        "x_partFixe_36 = dataBase['x_part']\n",
        "x_baseFixe_36 = np.array(x_baseFixe_36).reshape(int(len(x_baseFixe_36)/50),50)\n",
        "x_partFixe_36 = np.array(x_partFixe_36).reshape(int(len(x_partFixe_36)/50),50)\n",
        "\n",
        "\n",
        "dTest = pd.read_csv('/content/drive/MyDrive/Projet-M1-Deep-FDA/Codes/Python/1-Simulation_data/Data/testFixe_indice45.csv')\n",
        "dBase = pd.read_csv('/content/drive/MyDrive/Projet-M1-Deep-FDA/Codes/Python/1-Simulation_data/Data/baseTestFixe_indice45.csv')\n",
        "dataTest = pd.DataFrame(data=dTest); #création nouvelle dataframe\n",
        "dataBase = pd.DataFrame(data=dBase)\n",
        "\n",
        "\n",
        "x_testFixe_45 = dataTest['x_test']\n",
        "y_testFixe_45 = dataTest['y_test']\n",
        "lengthTest = int(len(x_testFixe_45)/50)\n",
        "x_testFixe_45 = np.array(x_testFixe_45).reshape(lengthTest,1,50)\n",
        "y_testFixe_45 = np.array(y_testFixe_45).reshape(lengthTest,1,50)\n",
        "\n",
        "x_baseFixe_45 = dataBase['x_base']\n",
        "x_partFixe_45 = dataBase['x_part']\n",
        "x_baseFixe_45 = np.array(x_baseFixe_45).reshape(int(len(x_baseFixe_45)/50),50)\n",
        "x_partFixe_45 = np.array(x_partFixe_45).reshape(int(len(x_partFixe_45)/50),50)\n"
      ],
      "execution_count": null,
      "outputs": []
    },
    {
      "cell_type": "markdown",
      "metadata": {
        "id": "dPaPN5JVnwYQ"
      },
      "source": [
        "Téléchargement du modèle à tester"
      ]
    },
    {
      "cell_type": "code",
      "metadata": {
        "id": "m2OH5vxaOfHz",
        "colab": {
          "base_uri": "https://localhost:8080/"
        },
        "outputId": "92b9de06-db74-4980-d719-35dab5a3d265"
      },
      "source": [
        "modelMSE = keras.models.load_model('/content/drive/MyDrive/Projet-M1-Deep-FDA/Codes/Python/3-Entrainements/algo_modeles_Reconstruit_FinalV3_2/modelMSE')"
      ],
      "execution_count": null,
      "outputs": [
        {
          "output_type": "stream",
          "text": [
            "WARNING:absl:Importing a function (__inference_lstm_cell_6_layer_call_and_return_conditional_losses_288739) with ops with custom gradients. Will likely fail if a gradient is requested.\n",
            "WARNING:absl:Importing a function (__inference_lstm_cell_6_layer_call_and_return_conditional_losses_288739) with ops with custom gradients. Will likely fail if a gradient is requested.\n",
            "WARNING:absl:Importing a function (__inference_lstm_cell_6_layer_call_and_return_conditional_losses_288696) with ops with custom gradients. Will likely fail if a gradient is requested.\n",
            "WARNING:absl:Importing a function (__inference_lstm_cell_6_layer_call_and_return_conditional_losses_288696) with ops with custom gradients. Will likely fail if a gradient is requested.\n",
            "WARNING:absl:Importing a function (model_2model_GRU800_10_gru_4_while_body_298814) with ops with custom gradients. Will likely fail if a gradient is requested.\n",
            "WARNING:absl:Importing a function (lstm_9_while_body_307611) with ops with custom gradients. Will likely fail if a gradient is requested.\n",
            "WARNING:absl:Importing a function (lstm_9_while_body_307611) with ops with custom gradients. Will likely fail if a gradient is requested.\n",
            "WARNING:absl:Importing a function (__inference_model_2_gru_4_while_body_4762800_100024) with ops with custom gradients. Will likely fail if a gradient is requested.\n",
            "WARNING:absl:Importing a function (while_body_310403) with ops with custom gradients. Will likely fail if a gradient is requested.\n",
            "WARNING:absl:Importing a function (modelmodel_GRU800_0_gru_while_body_298607) with ops with custom gradients. Will likely fail if a gradient is requested.\n",
            "WARNING:absl:Importing a function (while_body_318998) with ops with custom gradients. Will likely fail if a gradient is requested.\n",
            "WARNING:absl:Importing a function (while_body_318998) with ops with custom gradients. Will likely fail if a gradient is requested.\n",
            "WARNING:absl:Importing a function (__inference_gru_cell_13_layer_call_and_return_conditional_losses_278436) with ops with custom gradients. Will likely fail if a gradient is requested.\n",
            "WARNING:absl:Importing a function (model_2model_GRU_3_layers_lstm_9_while_body_297606) with ops with custom gradients. Will likely fail if a gradient is requested.\n",
            "WARNING:absl:Importing a function (model_2model_GRU_3_layers_lstm_9_while_body_297606) with ops with custom gradients. Will likely fail if a gradient is requested.\n",
            "WARNING:absl:Importing a function (gru_4_while_body_304084) with ops with custom gradients. Will likely fail if a gradient is requested.\n",
            "WARNING:absl:Importing a function (__inference_model_2model_GRU800_10_layer_call_and_return_conditional_losses_304221) with ops with custom gradients. Will likely fail if a gradient is requested.\n",
            "WARNING:absl:Importing a function (while_body_279153) with ops with custom gradients. Will likely fail if a gradient is requested.\n",
            "WARNING:absl:Importing a function (__inference_gru_layer_call_and_return_conditional_losses_310498) with ops with custom gradients. Will likely fail if a gradient is requested.\n",
            "WARNING:absl:Importing a function (while_body_290898) with ops with custom gradients. Will likely fail if a gradient is requested.\n",
            "WARNING:absl:Importing a function (while_body_290898) with ops with custom gradients. Will likely fail if a gradient is requested.\n",
            "WARNING:absl:Importing a function (__inference_lstm_9_layer_call_and_return_conditional_losses_290993) with ops with custom gradients. Will likely fail if a gradient is requested.\n",
            "WARNING:absl:Importing a function (__inference_lstm_9_layer_call_and_return_conditional_losses_290993) with ops with custom gradients. Will likely fail if a gradient is requested.\n",
            "WARNING:absl:Importing a function (model_model_2model_GRU_3_layers_lstm_9_while_body_274616) with ops with custom gradients. Will likely fail if a gradient is requested.\n",
            "WARNING:absl:Importing a function (model_model_2model_GRU_3_layers_lstm_9_while_body_274616) with ops with custom gradients. Will likely fail if a gradient is requested.\n",
            "WARNING:absl:Importing a function (while_body_311549) with ops with custom gradients. Will likely fail if a gradient is requested.\n",
            "WARNING:absl:Importing a function (model_modelmodel_GRU800_0_gru_while_body_275589) with ops with custom gradients. Will likely fail if a gradient is requested.\n",
            "WARNING:absl:Importing a function (__inference_gru_4_layer_call_and_return_conditional_losses_311644) with ops with custom gradients. Will likely fail if a gradient is requested.\n",
            "WARNING:absl:Importing a function (while_body_277845) with ops with custom gradients. Will likely fail if a gradient is requested.\n",
            "WARNING:absl:Importing a function (__inference_gru_layer_call_and_return_conditional_losses_277940) with ops with custom gradients. Will likely fail if a gradient is requested.\n",
            "WARNING:absl:Importing a function (while_body_311189) with ops with custom gradients. Will likely fail if a gradient is requested.\n",
            "WARNING:absl:Importing a function (__inference_gru_cell_13_layer_call_and_return_conditional_losses_322633) with ops with custom gradients. Will likely fail if a gradient is requested.\n",
            "WARNING:absl:Importing a function (model_model_2model_GRU800_10_gru_4_while_body_275789) with ops with custom gradients. Will likely fail if a gradient is requested.\n",
            "WARNING:absl:Importing a function (gru_while_body_303846) with ops with custom gradients. Will likely fail if a gradient is requested.\n",
            "WARNING:absl:Importing a function (__inference_gru_4_layer_call_and_return_conditional_losses_279248) with ops with custom gradients. Will likely fail if a gradient is requested.\n",
            "WARNING:absl:Importing a function (__inference_gru_cell_12_layer_call_and_return_conditional_losses_277297) with ops with custom gradients. Will likely fail if a gradient is requested.\n",
            "WARNING:absl:Importing a function (model_2model_GRU_3_layers_lstm_9_while_body_300752) with ops with custom gradients. Will likely fail if a gradient is requested.\n",
            "WARNING:absl:Importing a function (model_2model_GRU_3_layers_lstm_9_while_body_300752) with ops with custom gradients. Will likely fail if a gradient is requested.\n",
            "WARNING:absl:Importing a function (while_body_318457) with ops with custom gradients. Will likely fail if a gradient is requested.\n",
            "WARNING:absl:Importing a function (while_body_318457) with ops with custom gradients. Will likely fail if a gradient is requested.\n",
            "WARNING:absl:Importing a function (__inference_lstm_9_layer_call_and_return_conditional_losses_318552) with ops with custom gradients. Will likely fail if a gradient is requested.\n",
            "WARNING:absl:Importing a function (__inference_lstm_9_layer_call_and_return_conditional_losses_318552) with ops with custom gradients. Will likely fail if a gradient is requested.\n",
            "WARNING:absl:Importing a function (lstm_9_while_body_308422) with ops with custom gradients. Will likely fail if a gradient is requested.\n",
            "WARNING:absl:Importing a function (lstm_9_while_body_308422) with ops with custom gradients. Will likely fail if a gradient is requested.\n",
            "WARNING:absl:Importing a function (__inference_model_gru_while_body_1992281_95958) with ops with custom gradients. Will likely fail if a gradient is requested.\n",
            "WARNING:absl:Importing a function (__inference_lstm_cell_6_layer_call_and_return_conditional_losses_322963) with ops with custom gradients. Will likely fail if a gradient is requested.\n",
            "WARNING:absl:Importing a function (__inference_lstm_cell_6_layer_call_and_return_conditional_losses_322963) with ops with custom gradients. Will likely fail if a gradient is requested.\n",
            "WARNING:absl:Importing a function (__inference__wrapped_model_96087) with ops with custom gradients. Will likely fail if a gradient is requested.\n",
            "WARNING:absl:Importing a function (__inference_gru_cell_13_layer_call_and_return_conditional_losses_322588) with ops with custom gradients. Will likely fail if a gradient is requested.\n",
            "WARNING:absl:Importing a function (__inference_model_2model_GRU_3_layers_layer_call_and_return_conditional_losses_308702) with ops with custom gradients. Will likely fail if a gradient is requested.\n",
            "WARNING:absl:Importing a function (__inference_model_2model_GRU_3_layers_layer_call_and_return_conditional_losses_308702) with ops with custom gradients. Will likely fail if a gradient is requested.\n",
            "WARNING:absl:Importing a function (while_body_278984) with ops with custom gradients. Will likely fail if a gradient is requested.\n",
            "WARNING:absl:Importing a function (modelmodel_GRU800_0_gru_while_body_301725) with ops with custom gradients. Will likely fail if a gradient is requested.\n",
            "WARNING:absl:Importing a function (__inference_gru_cell_12_layer_call_and_return_conditional_losses_322515) with ops with custom gradients. Will likely fail if a gradient is requested.\n",
            "WARNING:absl:Importing a function (__inference__wrapped_model_100153) with ops with custom gradients. Will likely fail if a gradient is requested.\n",
            "WARNING:absl:Importing a function (while_body_310234) with ops with custom gradients. Will likely fail if a gradient is requested.\n",
            "WARNING:absl:Importing a function (__inference_gru_layer_call_and_return_conditional_losses_310329) with ops with custom gradients. Will likely fail if a gradient is requested.\n",
            "WARNING:absl:Importing a function (while_body_318825) with ops with custom gradients. Will likely fail if a gradient is requested.\n",
            "WARNING:absl:Importing a function (while_body_318825) with ops with custom gradients. Will likely fail if a gradient is requested.\n",
            "WARNING:absl:Importing a function (__inference_lstm_9_layer_call_and_return_conditional_losses_318920) with ops with custom gradients. Will likely fail if a gradient is requested.\n",
            "WARNING:absl:Importing a function (__inference_lstm_9_layer_call_and_return_conditional_losses_318920) with ops with custom gradients. Will likely fail if a gradient is requested.\n",
            "WARNING:absl:Importing a function (__inference_lstm_9_layer_call_and_return_conditional_losses_319093) with ops with custom gradients. Will likely fail if a gradient is requested.\n",
            "WARNING:absl:Importing a function (__inference_lstm_9_layer_call_and_return_conditional_losses_319093) with ops with custom gradients. Will likely fail if a gradient is requested.\n",
            "WARNING:absl:Importing a function (__inference_gru_4_layer_call_and_return_conditional_losses_311284) with ops with custom gradients. Will likely fail if a gradient is requested.\n",
            "WARNING:absl:Importing a function (__inference_lstm_cell_6_layer_call_and_return_conditional_losses_322920) with ops with custom gradients. Will likely fail if a gradient is requested.\n",
            "WARNING:absl:Importing a function (__inference_lstm_cell_6_layer_call_and_return_conditional_losses_322920) with ops with custom gradients. Will likely fail if a gradient is requested.\n",
            "WARNING:absl:Importing a function (while_body_310594) with ops with custom gradients. Will likely fail if a gradient is requested.\n",
            "WARNING:absl:Importing a function (__inference_gru_layer_call_and_return_conditional_losses_310689) with ops with custom gradients. Will likely fail if a gradient is requested.\n",
            "WARNING:absl:Importing a function (while_body_278014) with ops with custom gradients. Will likely fail if a gradient is requested.\n",
            "WARNING:absl:Importing a function (__inference_modelmodel_GRU800_0_layer_call_and_return_conditional_losses_303976) with ops with custom gradients. Will likely fail if a gradient is requested.\n",
            "WARNING:absl:Importing a function (__inference_gru_cell_12_layer_call_and_return_conditional_losses_277252) with ops with custom gradients. Will likely fail if a gradient is requested.\n",
            "WARNING:absl:Importing a function (while_body_311020) with ops with custom gradients. Will likely fail if a gradient is requested.\n",
            "WARNING:absl:Importing a function (__inference_gru_4_layer_call_and_return_conditional_losses_311115) with ops with custom gradients. Will likely fail if a gradient is requested.\n",
            "WARNING:absl:Importing a function (__inference_model_2model_GRU_3_layers_layer_call_and_return_conditional_losses_307905) with ops with custom gradients. Will likely fail if a gradient is requested.\n",
            "WARNING:absl:Importing a function (__inference_model_2model_GRU_3_layers_layer_call_and_return_conditional_losses_307905) with ops with custom gradients. Will likely fail if a gradient is requested.\n",
            "WARNING:absl:Importing a function (__inference_model_layer_call_and_return_conditional_losses_300235) with ops with custom gradients. Will likely fail if a gradient is requested.\n",
            "WARNING:absl:Importing a function (__inference_model_layer_call_and_return_conditional_losses_300235) with ops with custom gradients. Will likely fail if a gradient is requested.\n",
            "WARNING:absl:Importing a function (__inference_model_layer_call_and_return_conditional_losses_300235) with ops with custom gradients. Will likely fail if a gradient is requested.\n",
            "WARNING:absl:Importing a function (__inference_model_layer_call_and_return_conditional_losses_300235) with ops with custom gradients. Will likely fail if a gradient is requested.\n",
            "WARNING:absl:Importing a function (while_body_318630) with ops with custom gradients. Will likely fail if a gradient is requested.\n",
            "WARNING:absl:Importing a function (while_body_318630) with ops with custom gradients. Will likely fail if a gradient is requested.\n",
            "WARNING:absl:Importing a function (while_body_311380) with ops with custom gradients. Will likely fail if a gradient is requested.\n",
            "WARNING:absl:Importing a function (__inference_gru_4_layer_call_and_return_conditional_losses_311475) with ops with custom gradients. Will likely fail if a gradient is requested.\n",
            "WARNING:absl:Importing a function (while_body_310763) with ops with custom gradients. Will likely fail if a gradient is requested.\n",
            "WARNING:absl:Importing a function (__inference_gru_layer_call_and_return_conditional_losses_310858) with ops with custom gradients. Will likely fail if a gradient is requested.\n",
            "WARNING:absl:Importing a function (__inference_model_2_lstm_9_while_body_4066332_126462) with ops with custom gradients. Will likely fail if a gradient is requested.\n",
            "WARNING:absl:Importing a function (__inference_model_2_lstm_9_while_body_4066332_126462) with ops with custom gradients. Will likely fail if a gradient is requested.\n",
            "WARNING:absl:Importing a function (gru_4_while_body_304295) with ops with custom gradients. Will likely fail if a gradient is requested.\n",
            "WARNING:absl:Importing a function (__inference_model_2model_GRU800_10_layer_call_and_return_conditional_losses_304425) with ops with custom gradients. Will likely fail if a gradient is requested.\n",
            "WARNING:absl:Importing a function (__inference_lstm_9_layer_call_and_return_conditional_losses_318725) with ops with custom gradients. Will likely fail if a gradient is requested.\n",
            "WARNING:absl:Importing a function (__inference_lstm_9_layer_call_and_return_conditional_losses_318725) with ops with custom gradients. Will likely fail if a gradient is requested.\n",
            "WARNING:absl:Importing a function (__inference_gru_cell_13_layer_call_and_return_conditional_losses_278391) with ops with custom gradients. Will likely fail if a gradient is requested.\n",
            "WARNING:absl:Importing a function (__inference_gru_4_layer_call_and_return_conditional_losses_279079) with ops with custom gradients. Will likely fail if a gradient is requested.\n",
            "WARNING:absl:Importing a function (while_body_291071) with ops with custom gradients. Will likely fail if a gradient is requested.\n",
            "WARNING:absl:Importing a function (while_body_291071) with ops with custom gradients. Will likely fail if a gradient is requested.\n",
            "WARNING:absl:Importing a function (__inference_lstm_9_layer_call_and_return_conditional_losses_291166) with ops with custom gradients. Will likely fail if a gradient is requested.\n",
            "WARNING:absl:Importing a function (__inference_lstm_9_layer_call_and_return_conditional_losses_291166) with ops with custom gradients. Will likely fail if a gradient is requested.\n",
            "WARNING:absl:Importing a function (gru_while_body_303635) with ops with custom gradients. Will likely fail if a gradient is requested.\n",
            "WARNING:absl:Importing a function (__inference_modelmodel_GRU800_0_layer_call_and_return_conditional_losses_303772) with ops with custom gradients. Will likely fail if a gradient is requested.\n",
            "WARNING:absl:Importing a function (model_2model_GRU800_10_gru_4_while_body_301925) with ops with custom gradients. Will likely fail if a gradient is requested.\n",
            "WARNING:absl:Importing a function (__inference_gru_cell_12_layer_call_and_return_conditional_losses_322470) with ops with custom gradients. Will likely fail if a gradient is requested.\n",
            "WARNING:absl:Importing a function (__inference_gru_layer_call_and_return_conditional_losses_278109) with ops with custom gradients. Will likely fail if a gradient is requested.\n",
            "WARNING:absl:Importing a function (__inference__wrapped_model_130989) with ops with custom gradients. Will likely fail if a gradient is requested.\n",
            "WARNING:absl:Importing a function (__inference__wrapped_model_130989) with ops with custom gradients. Will likely fail if a gradient is requested.\n",
            "WARNING:absl:Importing a function (__inference__wrapped_model_277175) with ops with custom gradients. Will likely fail if a gradient is requested.\n",
            "WARNING:absl:Importing a function (__inference__wrapped_model_277175) with ops with custom gradients. Will likely fail if a gradient is requested.\n",
            "WARNING:absl:Importing a function (__inference__wrapped_model_277175) with ops with custom gradients. Will likely fail if a gradient is requested.\n",
            "WARNING:absl:Importing a function (__inference__wrapped_model_277175) with ops with custom gradients. Will likely fail if a gradient is requested.\n",
            "WARNING:absl:Importing a function (__inference_model_layer_call_and_return_conditional_losses_303311) with ops with custom gradients. Will likely fail if a gradient is requested.\n",
            "WARNING:absl:Importing a function (__inference_model_layer_call_and_return_conditional_losses_303311) with ops with custom gradients. Will likely fail if a gradient is requested.\n",
            "WARNING:absl:Importing a function (__inference_model_layer_call_and_return_conditional_losses_303311) with ops with custom gradients. Will likely fail if a gradient is requested.\n",
            "WARNING:absl:Importing a function (__inference_model_layer_call_and_return_conditional_losses_303311) with ops with custom gradients. Will likely fail if a gradient is requested.\n"
          ],
          "name": "stderr"
        }
      ]
    },
    {
      "cell_type": "markdown",
      "metadata": {
        "id": "i8ct7HPpn0C_"
      },
      "source": [
        "Prédiction de chacun des intervalles"
      ]
    },
    {
      "cell_type": "code",
      "metadata": {
        "id": "cyn_uN4qPJGw"
      },
      "source": [
        "pred0 = modelMSE.predict(x_testFixe_0)\n",
        "pred10 = modelMSE.predict(x_testFixe_10)\n",
        "pred18 = modelMSE.predict(x_testFixe_18)\n",
        "pred27 = modelMSE.predict(x_testFixe_27)\n",
        "pred36 = modelMSE.predict(x_testFixe_36)\n",
        "pred45 = modelMSE.predict(x_testFixe_45)\n",
        "\n",
        "pred0 = pred0.reshape(lengthTest,50)\n",
        "pred10 = pred10.reshape(lengthTest,50)\n",
        "pred18 = pred18.reshape(lengthTest,50)\n",
        "pred27 = pred27.reshape(lengthTest,50)\n",
        "pred36 = pred36.reshape(lengthTest,50)\n",
        "pred45 = pred45.reshape(lengthTest,50)\n",
        "\n",
        "y_testFixe_0 = y_testFixe_0.reshape(lengthTest,50)\n",
        "y_testFixe_10 = y_testFixe_10.reshape(lengthTest,50)\n",
        "y_testFixe_18 = y_testFixe_18.reshape(lengthTest,50)\n",
        "y_testFixe_27 = y_testFixe_27.reshape(lengthTest,50)\n",
        "y_testFixe_36 = y_testFixe_36.reshape(lengthTest,50)\n",
        "y_testFixe_45 = y_testFixe_45.reshape(lengthTest,50)"
      ],
      "execution_count": null,
      "outputs": []
    },
    {
      "cell_type": "code",
      "metadata": {
        "id": "ijJFogSLO8CU"
      },
      "source": [
        "def reconstructionPrediction(x_partielle, prediction):\n",
        "  newCourbe = np.array(x_partielle)\n",
        "  predictionCourbe = np.full(x_partielle.shape,np.nan)\n",
        "  for i in range(lengthTest): \n",
        "    if not np.isnan(x_partielle[i,0]):\n",
        "      diff = prediction[i,0] - x_partielle[i,0]\n",
        "    else:\n",
        "      diff = prediction[i,-1] - x_partielle[i,-1]\n",
        "    for j in range(50):\n",
        "      if (np.isnan(x_partielle[i,j])):\n",
        "        newCourbe[i,j] = prediction[i,j] - diff\n",
        "        predictionCourbe[i,j] = prediction[i,j] - diff\n",
        "  return newCourbe\n"
      ],
      "execution_count": null,
      "outputs": []
    },
    {
      "cell_type": "code",
      "metadata": {
        "id": "LhocfFCmP8uy"
      },
      "source": [
        "recontruction_indice0 = reconstructionPrediction(x_partFixe_0,pred0)\n",
        "recontruction_indice10 = reconstructionPrediction(x_partFixe_10,pred10)\n",
        "recontruction_indice18 = reconstructionPrediction(x_partFixe_18,pred18)\n",
        "recontruction_indice27 = reconstructionPrediction(x_partFixe_27,pred27)\n",
        "recontruction_indice36 = reconstructionPrediction(x_partFixe_36,pred36)\n",
        "recontruction_indice45 = reconstructionPrediction(x_partFixe_45,pred45)"
      ],
      "execution_count": null,
      "outputs": []
    },
    {
      "cell_type": "markdown",
      "metadata": {
        "id": "2zuUSzNEn4tI"
      },
      "source": [
        "#Visualisation du meilleur intervalles"
      ]
    },
    {
      "cell_type": "code",
      "metadata": {
        "colab": {
          "base_uri": "https://localhost:8080/"
        },
        "id": "yuvUMNSCQlH5",
        "outputId": "60dd810a-ee8b-4d59-b168-c134e7eb66e5"
      },
      "source": [
        "from sklearn.metrics import mean_squared_error\n",
        "  \n",
        "# Calculation of Mean Squared Error (MSE)\n",
        "print(\"Indice 0:\",mean_squared_error(y_testFixe_0,recontruction_indice0))\n",
        "print(\"Indice 10:\",mean_squared_error(y_testFixe_10,recontruction_indice10))\n",
        "print(\"Indice 18:\",mean_squared_error(y_testFixe_18,recontruction_indice18))\n",
        "print(\"Indice 27:\",mean_squared_error(y_testFixe_27,recontruction_indice27))\n",
        "print(\"Indice 36:\",mean_squared_error(y_testFixe_36,recontruction_indice36))\n",
        "print(\"Indice 45:\",mean_squared_error(y_testFixe_45,recontruction_indice45))"
      ],
      "execution_count": null,
      "outputs": [
        {
          "output_type": "stream",
          "text": [
            "Indice 0: 0.029323676689311864\n",
            "Indice 10: 0.006282334700080021\n",
            "Indice 18: 0.01007494074717705\n",
            "Indice 27: 0.007947181091868503\n",
            "Indice 36: 0.013419834018797093\n",
            "Indice 45: 0.0030092424558566923\n"
          ],
          "name": "stdout"
        }
      ]
    }
  ]
}